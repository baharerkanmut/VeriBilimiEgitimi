{
 "cells": [
  {
   "cell_type": "code",
   "execution_count": 1,
   "id": "a1f923d6",
   "metadata": {},
   "outputs": [],
   "source": [
    "#sözlükler(dictionary)"
   ]
  },
  {
   "cell_type": "code",
   "execution_count": 4,
   "id": "0ef00071",
   "metadata": {},
   "outputs": [
    {
     "name": "stdout",
     "output_type": "stream",
     "text": [
      "mydict[Name]: Ali\n",
      "mydict[Age]: 8\n"
     ]
    }
   ],
   "source": [
    "mydict ={'Name':'Ali', 'Age':'8', 'Class': 'First'} #key value pair\n",
    "print(\"mydict[Name]:\", mydict['Name'])\n",
    "print(\"mydict[Age]:\", mydict['Age'])"
   ]
  },
  {
   "cell_type": "code",
   "execution_count": 6,
   "id": "7daecb90",
   "metadata": {},
   "outputs": [],
   "source": [
    "#update - güncelleme\n",
    "mydict['Age'] = 11\n",
    "mydict['School'] = \"Middle School\""
   ]
  },
  {
   "cell_type": "code",
   "execution_count": 7,
   "id": "6117e592",
   "metadata": {},
   "outputs": [
    {
     "name": "stdout",
     "output_type": "stream",
     "text": [
      "mydict[Age]: 11\n",
      "mydict[School]: Middle School\n"
     ]
    }
   ],
   "source": [
    "print(\"mydict[Name]:\", mydict['Name'])\n",
    "print(\"mydict[Age]:\", mydict['Age'])"
   ]
  },
  {
   "cell_type": "code",
   "execution_count": 8,
   "id": "a2f28dbc",
   "metadata": {},
   "outputs": [
    {
     "ename": "TypeError",
     "evalue": "'str' object does not support item assignment",
     "output_type": "error",
     "traceback": [
      "\u001b[1;31m---------------------------------------------------------------------------\u001b[0m",
      "\u001b[1;31mTypeError\u001b[0m                                 Traceback (most recent call last)",
      "Cell \u001b[1;32mIn[8], line 3\u001b[0m\n\u001b[0;32m      1\u001b[0m \u001b[38;5;66;03m#mutable-inmutable (strings are inmutable)\u001b[39;00m\n\u001b[0;32m      2\u001b[0m b\u001b[38;5;241m=\u001b[39m \u001b[38;5;124m\"\u001b[39m\u001b[38;5;124mMiddle School\u001b[39m\u001b[38;5;124m\"\u001b[39m\n\u001b[1;32m----> 3\u001b[0m b [\u001b[38;5;241m5\u001b[39m] \u001b[38;5;241m=\u001b[39m \u001b[38;5;124m'\u001b[39m\u001b[38;5;124mc\u001b[39m\u001b[38;5;124m'\u001b[39m\n\u001b[0;32m      4\u001b[0m \u001b[38;5;28mprint\u001b[39m(b)\n",
      "\u001b[1;31mTypeError\u001b[0m: 'str' object does not support item assignment"
     ]
    }
   ],
   "source": [
    "#mutable-inmutable (strings are inmutable)\n",
    "b= \"Middle School\"\n",
    "b [5] = 'c'\n",
    "print(b)"
   ]
  },
  {
   "cell_type": "code",
   "execution_count": 9,
   "id": "be4465f1",
   "metadata": {},
   "outputs": [],
   "source": [
    "#deleting\n",
    "del mydict['Name']\n",
    "mydict.clear()\n",
    "del mydict"
   ]
  },
  {
   "cell_type": "code",
   "execution_count": 10,
   "id": "9868026c",
   "metadata": {},
   "outputs": [
    {
     "ename": "NameError",
     "evalue": "name 'mydict' is not defined",
     "output_type": "error",
     "traceback": [
      "\u001b[1;31m---------------------------------------------------------------------------\u001b[0m",
      "\u001b[1;31mNameError\u001b[0m                                 Traceback (most recent call last)",
      "Cell \u001b[1;32mIn[10], line 1\u001b[0m\n\u001b[1;32m----> 1\u001b[0m \u001b[38;5;28mprint\u001b[39m(\u001b[38;5;124m\"\u001b[39m\u001b[38;5;124mmydict[Name]:\u001b[39m\u001b[38;5;124m\"\u001b[39m, mydict[\u001b[38;5;124m'\u001b[39m\u001b[38;5;124mName\u001b[39m\u001b[38;5;124m'\u001b[39m])\n\u001b[0;32m      2\u001b[0m \u001b[38;5;28mprint\u001b[39m(\u001b[38;5;124m\"\u001b[39m\u001b[38;5;124mmydict[Age]:\u001b[39m\u001b[38;5;124m\"\u001b[39m, mydict[\u001b[38;5;124m'\u001b[39m\u001b[38;5;124mAge\u001b[39m\u001b[38;5;124m'\u001b[39m])\n",
      "\u001b[1;31mNameError\u001b[0m: name 'mydict' is not defined"
     ]
    }
   ],
   "source": [
    "print(\"mydict[Name]:\", mydict['Name'])\n",
    "print(\"mydict[Age]:\", mydict['Age'])"
   ]
  },
  {
   "cell_type": "code",
   "execution_count": 11,
   "id": "c7d2ef64",
   "metadata": {},
   "outputs": [
    {
     "name": "stdout",
     "output_type": "stream",
     "text": [
      "555666\n"
     ]
    }
   ],
   "source": [
    "#get-items\n",
    "rehber = {\"Seda\" : '555666', \"Koray\" : '555777' }\n",
    "value = rehber.get('Seda')\n",
    "print(value)"
   ]
  },
  {
   "cell_type": "code",
   "execution_count": 12,
   "id": "d18d7e8e",
   "metadata": {},
   "outputs": [
    {
     "name": "stdout",
     "output_type": "stream",
     "text": [
      "Seda : 555666\n",
      "Koray : 555777\n",
      "Orhan : 555999\n"
     ]
    }
   ],
   "source": [
    "rehber = {\"Seda\" : '555666', \"Koray\" : '555777', \"Orhan\": '555999'}\n",
    "for key, value in rehber.items():\n",
    "    print(key, \":\", value)"
   ]
  },
  {
   "cell_type": "code",
   "execution_count": null,
   "id": "8de72af6",
   "metadata": {},
   "outputs": [],
   "source": []
  }
 ],
 "metadata": {
  "kernelspec": {
   "display_name": "Python 3 (ipykernel)",
   "language": "python",
   "name": "python3"
  },
  "language_info": {
   "codemirror_mode": {
    "name": "ipython",
    "version": 3
   },
   "file_extension": ".py",
   "mimetype": "text/x-python",
   "name": "python",
   "nbconvert_exporter": "python",
   "pygments_lexer": "ipython3",
   "version": "3.11.5"
  }
 },
 "nbformat": 4,
 "nbformat_minor": 5
}
