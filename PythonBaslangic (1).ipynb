{
 "cells": [
  {
   "cell_type": "code",
   "execution_count": 1,
   "id": "bbff6bfc",
   "metadata": {},
   "outputs": [
    {
     "name": "stdout",
     "output_type": "stream",
     "text": [
      "100 1000.0 Python\n"
     ]
    }
   ],
   "source": [
    "counter = 100\n",
    "distance = 1000.00\n",
    "name = \"Python\"\n",
    "print (counter, distance, name)"
   ]
  },
  {
   "cell_type": "code",
   "execution_count": 2,
   "id": "7a6b6aef",
   "metadata": {},
   "outputs": [
    {
     "name": "stdout",
     "output_type": "stream",
     "text": [
      "Hello Python!\n",
      "H\n",
      "llo\n",
      "llo Python!\n",
      "Hello Python!Hello Python!\n",
      "Hello Python!TEST\n"
     ]
    }
   ],
   "source": [
    "str1 = \"Hello Python!\"\n",
    "print (str1)\n",
    "print (str1 [0])\n",
    "print (str1 [2:5])\n",
    "print (str1 [2:])\n",
    "print (str1*2)\n",
    "print (str1 + \"TEST\")"
   ]
  },
  {
   "cell_type": "code",
   "execution_count": 3,
   "id": "579388bc",
   "metadata": {},
   "outputs": [
    {
     "name": "stdout",
     "output_type": "stream",
     "text": [
      "['abd', 786, -21, 'Bil', True, False, 70.2]\n",
      "False\n",
      "[786, -21]\n",
      "[-21, 'Bil', True, False, 70.2]\n",
      "[123, 'Bil', 123, 'Bil']\n",
      "['abd', 786, -21, 'Bil', True, False, 70.2, 123, 'Bil']\n"
     ]
    }
   ],
   "source": [
    "#liste\n",
    "lst1 = [\"abd\",786,2-23,\"Bil\",True,False,70.2]\n",
    "MiniList = [123,\"Bil\"]\n",
    "print(lst1)\n",
    "print(lst1[5])\n",
    "print(lst1[1:3])\n",
    "print(lst1[2:])\n",
    "print(MiniList*2)\n",
    "print(lst1+MiniList)"
   ]
  },
  {
   "cell_type": "code",
   "execution_count": 4,
   "id": "b3f4ebfc",
   "metadata": {},
   "outputs": [
    {
     "name": "stdout",
     "output_type": "stream",
     "text": [
      "True\n",
      "True\n",
      "False\n",
      "True\n",
      "False\n"
     ]
    }
   ],
   "source": [
    "#Karar Yapıları\n",
    "a=6\n",
    "b=7\n",
    "print(not a==7 and b==7)\n",
    "print(a==7 or b==7)\n",
    "print(a==7 or b==6)\n",
    "print(not (a==7 and b==6))\n",
    "print(not a==7 and b==6)"
   ]
  },
  {
   "cell_type": "code",
   "execution_count": null,
   "id": "66c0929d",
   "metadata": {},
   "outputs": [],
   "source": [
    "username = input (\"What is your user name? \")\n",
    "password = input (\"What is your password? \")\n",
    "if username == \"BİL100E\" and password == \"Python\":\n",
    "    print(\"Welcome BİL100E\")\n",
    "elif username == \"programming\" and password == \"Languages\":\n",
    "    print(\"Welcome programming Language\")\n",
    "else:\n",
    "    print(\"Cannot recognize who you are\")"
   ]
  },
  {
   "cell_type": "code",
   "execution_count": null,
   "id": "ca25e6d5",
   "metadata": {},
   "outputs": [],
   "source": [
    "#Döngüler\n",
    "count = 0\n",
    "while(count<9):\n",
    "    print(\"The count is: \", count)\n",
    "    count = count++1\n",
    "print(\"Goodbye!\")"
   ]
  },
  {
   "cell_type": "code",
   "execution_count": null,
   "id": "4a48f5ff",
   "metadata": {},
   "outputs": [],
   "source": [
    "#while-else\n",
    "mycount = 1\n",
    "while mycount < 5:\n",
    "    print (mycount, \"is less than 5\")\n",
    "    mycount = mycount++1\n",
    "else:\n",
    "    print(mycount, \"is not less than 5\")"
   ]
  },
  {
   "cell_type": "code",
   "execution_count": null,
   "id": "0a382ccd",
   "metadata": {},
   "outputs": [],
   "source": [
    "for letter in 'Python':\n",
    "    print(\"currentLetter:\", letter)"
   ]
  },
  {
   "cell_type": "code",
   "execution_count": null,
   "id": "0b17525a",
   "metadata": {},
   "outputs": [],
   "source": [
    "fruits = [\"banana\", \"apple\", \"mango\"]\n",
    "for fruit in fruits:\n",
    "    print(\"Curent Fruit:\", fruit)\n",
    "print(\"Goodbye!\")"
   ]
  },
  {
   "cell_type": "code",
   "execution_count": null,
   "id": "b25395f1",
   "metadata": {},
   "outputs": [],
   "source": [
    "#çift for - Çarpım Tablosu\n",
    "for x in range(1,11):\n",
    "    for y in range(1,11):\n",
    "        print(\"%d*%d=%d\" % (x,y,x*y))"
   ]
  },
  {
   "cell_type": "code",
   "execution_count": null,
   "id": "182cda90",
   "metadata": {},
   "outputs": [],
   "source": [
    "x=-20\n",
    "y=20\n",
    "while x <= y:\n",
    "    print(\"x is now:  \", x)\n",
    "    x = x+1"
   ]
  },
  {
   "cell_type": "code",
   "execution_count": null,
   "id": "2043c93f",
   "metadata": {},
   "outputs": [],
   "source": [
    "#def fonksiyonlar\n",
    "def myprint(s1):\n",
    "    print(s1)\n",
    "myprint(\"Barcelona\")\n",
    "myprint(\"Real Madrid\")"
   ]
  },
  {
   "cell_type": "code",
   "execution_count": null,
   "id": "e852a45b",
   "metadata": {},
   "outputs": [],
   "source": [
    "def Fun(x,y):\n",
    "    result= x+y\n",
    "    return result\n",
    "print(Fun(5,3))"
   ]
  },
  {
   "cell_type": "code",
   "execution_count": null,
   "id": "7b50b3a0",
   "metadata": {},
   "outputs": [],
   "source": [
    "#default parametre\n",
    "def printinfo(name, age=23):\n",
    "    print(\"Name:\", name)\n",
    "    print(\"Age:\", age)\n",
    "    \n",
    "printinfo(age=19, name=\"TransvanianDevil\")\n",
    "printinfo(name=\"Bugs Bunny\")"
   ]
  },
  {
   "cell_type": "code",
   "execution_count": null,
   "id": "ae28e2f9",
   "metadata": {},
   "outputs": [],
   "source": [
    "#modül\n",
    "import math\n",
    "def area_of_circle(r):\n",
    "        a= r**2 *math.pi\n",
    "        return a\n",
    "print(area_of_circle(7))"
   ]
  },
  {
   "cell_type": "code",
   "execution_count": null,
   "id": "77e8961c",
   "metadata": {},
   "outputs": [],
   "source": [
    "#Anonim fonksiyonlar lambda, map, fitter, reduce\n",
    "addition = lambda a : a+10\n",
    "print(addition(5))"
   ]
  },
  {
   "cell_type": "code",
   "execution_count": null,
   "id": "58769f2b",
   "metadata": {},
   "outputs": [],
   "source": [
    "product = lambda a,b : a*b\n",
    "print(product(5,6))"
   ]
  },
  {
   "cell_type": "code",
   "execution_count": null,
   "id": "3e0d0ca6",
   "metadata": {},
   "outputs": [],
   "source": [
    "addition = lambda a,b,c : a+b+c\n",
    "print(addition(5,6,2))"
   ]
  },
  {
   "cell_type": "code",
   "execution_count": null,
   "id": "f5565b4f",
   "metadata": {},
   "outputs": [],
   "source": [
    "res = (lambda *args: sum(args))\n",
    "res(10,20), res(10,20,30,40), res(10,20,30,40,50,60,70)"
   ]
  },
  {
   "cell_type": "code",
   "execution_count": null,
   "id": "9285cb7a",
   "metadata": {},
   "outputs": [],
   "source": [
    "res1 = (lambda **kwargs : sum(kwargs.values()))\n",
    "res1(a = 10, b = 20, c= 30), res1(a=10, b=20, c=30, d=40, e=50)"
   ]
  },
  {
   "cell_type": "code",
   "execution_count": null,
   "id": "065f9fe9",
   "metadata": {},
   "outputs": [],
   "source": [
    "#filter(functiom, iterable) veri yapısı\n",
    "\n",
    "list1=[1,2,3,4,5,6,7,8,9]\n",
    "\n",
    "def odd(n):\n",
    "    if n % 2 == 1:\n",
    "        return True\n",
    "    else:\n",
    "        return False\n",
    "odd_num=list(filter(odd, list1))\n",
    "odd_num\n",
    "    "
   ]
  },
  {
   "cell_type": "code",
   "execution_count": null,
   "id": "1289b2b3",
   "metadata": {},
   "outputs": [],
   "source": [
    "list1=[1,2,3,4,5,6,7,8,9]\n",
    "\n",
    "odd_num=list(filter(lambda n: n%2 == 1, list1))\n",
    "odd_num"
   ]
  },
  {
   "cell_type": "code",
   "execution_count": null,
   "id": "41930256",
   "metadata": {},
   "outputs": [],
   "source": [
    "#map (function, iterable)\n",
    "def twice (n):\n",
    "    return n*2\n",
    "doubles = list(map(lambda n:n*2, odd_num))\n",
    "doubles"
   ]
  },
  {
   "cell_type": "code",
   "execution_count": null,
   "id": "230710a9",
   "metadata": {},
   "outputs": [],
   "source": [
    "doubles = list(map(lambda n:n*2, odd_num))\n",
    "doubles"
   ]
  },
  {
   "cell_type": "code",
   "execution_count": null,
   "id": "7f8e25b1",
   "metadata": {},
   "outputs": [],
   "source": [
    "from functools import reduce"
   ]
  },
  {
   "cell_type": "code",
   "execution_count": null,
   "id": "a5668cd7",
   "metadata": {},
   "outputs": [],
   "source": [
    "def add (a,b):\n",
    "    return a+b\n",
    "sum_all = reduce(add,doubles)\n",
    "sum_all"
   ]
  },
  {
   "cell_type": "code",
   "execution_count": null,
   "id": "af95c929",
   "metadata": {},
   "outputs": [],
   "source": [
    "sum_all= reduce(lambda a, b : a+b, doubles)\n",
    "sum_all"
   ]
  },
  {
   "cell_type": "code",
   "execution_count": null,
   "id": "1d21d791",
   "metadata": {},
   "outputs": [],
   "source": [
    "sum_all = reduce(lambda a,b: a+b, list(map(lambda n:n*2, list(filter(lambda n: n%2 == 1, list1)))))\n",
    "sum_all"
   ]
  },
  {
   "cell_type": "markdown",
   "id": "1a8d1839",
   "metadata": {},
   "source": [
    "#Dosyalar ve istisna işleme - 3 mod: okuma-read, yazma-write, sonuna eklem-append"
   ]
  },
  {
   "cell_type": "code",
   "execution_count": null,
   "id": "62c31652",
   "metadata": {},
   "outputs": [],
   "source": [
    "f = open(\"Dosyam.txt\", \"w\")\n",
    "print(f)"
   ]
  },
  {
   "cell_type": "code",
   "execution_count": null,
   "id": "6ccfd66e",
   "metadata": {},
   "outputs": [],
   "source": [
    "f.write(\"Dosyamın içindeyim\")\n",
    "f.write(\"Şimdi birşeyler yazacağım\")\n",
    "\n",
    "f.close()"
   ]
  },
  {
   "cell_type": "code",
   "execution_count": null,
   "id": "be037f09",
   "metadata": {},
   "outputs": [],
   "source": [
    "f = open(\"Dosyam.txt\", \"r\")\n",
    "\n",
    "text = f.read ()\n",
    "print(text)"
   ]
  },
  {
   "cell_type": "code",
   "execution_count": null,
   "id": "9831bb7b",
   "metadata": {},
   "outputs": [],
   "source": [
    "f = open(\"Dosyam.txt\", \"r\")\n",
    "\n",
    "text = f.read (7)\n",
    "print(text)"
   ]
  },
  {
   "cell_type": "code",
   "execution_count": null,
   "id": "5c84a3aa",
   "metadata": {},
   "outputs": [],
   "source": [
    "print(f.read(1000006))"
   ]
  },
  {
   "cell_type": "code",
   "execution_count": null,
   "id": "e8157fe4",
   "metadata": {},
   "outputs": [],
   "source": [
    "fo = open('Dosyafoo.txt', \"w\")\n",
    "fo.write(\"Hanimiş yazdıklarım \\nİşte burada\\n\")\n",
    "fo = open(\"footxt\", \"r+\") \n",
    "mystr = fo.read(17)\n",
    "print('Bizim kelimemiz:', mystr )"
   ]
  },
  {
   "cell_type": "code",
   "execution_count": null,
   "id": "b05537ff",
   "metadata": {},
   "outputs": [],
   "source": [
    "position = fo.tell()\n",
    "print(\"current file position: \", position)"
   ]
  },
  {
   "cell_type": "code",
   "execution_count": null,
   "id": "4f8ab800",
   "metadata": {},
   "outputs": [],
   "source": [
    "position = fo.seek(0, 0)\n",
    "mtstr2 = fo.read(18)\n",
    "print(\"Again ourstring is: \", mystr2)\n",
    "\n",
    "fo.close()\n"
   ]
  },
  {
   "cell_type": "code",
   "execution_count": null,
   "id": "3dbd8af4",
   "metadata": {},
   "outputs": [],
   "source": [
    "#try, except, else, finally"
   ]
  },
  {
   "cell_type": "code",
   "execution_count": null,
   "id": "11f880db",
   "metadata": {},
   "outputs": [],
   "source": [
    "try:\n",
    "    fh = open(\"testfile\", \"r\")\n",
    "    fh.write(\"This is my test file for exception handing\")\n",
    "except IOError:\n",
    "    print(\"Error: cannot find file or read data\")\n",
    "else:\n",
    "    print(\"Content is written to the file succesfully\")"
   ]
  },
  {
   "cell_type": "code",
   "execution_count": null,
   "id": "771324f3",
   "metadata": {},
   "outputs": [],
   "source": [
    "try:\n",
    "    fh = open(\"testfile.txt\", \"w\")\n",
    "    fh.write(\"This is my test file for exception handing\")\n",
    "\n",
    "finally:\n",
    "    print(\"Executes in every way\")"
   ]
  },
  {
   "cell_type": "code",
   "execution_count": null,
   "id": "bfe78a9e",
   "metadata": {},
   "outputs": [],
   "source": []
  }
 ],
 "metadata": {
  "kernelspec": {
   "display_name": "Python 3 (ipykernel)",
   "language": "python",
   "name": "python3"
  },
  "language_info": {
   "codemirror_mode": {
    "name": "ipython",
    "version": 3
   },
   "file_extension": ".py",
   "mimetype": "text/x-python",
   "name": "python",
   "nbconvert_exporter": "python",
   "pygments_lexer": "ipython3",
   "version": "3.11.5"
  }
 },
 "nbformat": 4,
 "nbformat_minor": 5
}
